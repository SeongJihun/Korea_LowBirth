{
 "cells": [
  {
   "cell_type": "code",
   "execution_count": 27,
   "id": "75b6889b",
   "metadata": {},
   "outputs": [],
   "source": [
    "import matplotlib.pyplot as plt\n",
    "import pandas as pd\n",
    "import matplotlib as mpl\n",
    "mpl.rc('font',family='Malgun Gothic')"
   ]
  },
  {
   "cell_type": "code",
   "execution_count": 28,
   "id": "a861a5f2",
   "metadata": {},
   "outputs": [
    {
     "data": {
      "text/html": [
       "<div>\n",
       "<style scoped>\n",
       "    .dataframe tbody tr th:only-of-type {\n",
       "        vertical-align: middle;\n",
       "    }\n",
       "\n",
       "    .dataframe tbody tr th {\n",
       "        vertical-align: top;\n",
       "    }\n",
       "\n",
       "    .dataframe thead th {\n",
       "        text-align: right;\n",
       "    }\n",
       "</style>\n",
       "<table border=\"1\" class=\"dataframe\">\n",
       "  <thead>\n",
       "    <tr style=\"text-align: right;\">\n",
       "      <th></th>\n",
       "      <th>시도별</th>\n",
       "      <th>2011</th>\n",
       "      <th>2012</th>\n",
       "      <th>2013</th>\n",
       "      <th>2014</th>\n",
       "      <th>2015</th>\n",
       "      <th>2016</th>\n",
       "      <th>2017</th>\n",
       "      <th>2018</th>\n",
       "      <th>2019</th>\n",
       "      <th>2020</th>\n",
       "    </tr>\n",
       "  </thead>\n",
       "  <tbody>\n",
       "    <tr>\n",
       "      <th>0</th>\n",
       "      <td>시도별</td>\n",
       "      <td>합계출산율</td>\n",
       "      <td>합계출산율</td>\n",
       "      <td>합계출산율</td>\n",
       "      <td>합계출산율</td>\n",
       "      <td>합계출산율</td>\n",
       "      <td>합계출산율</td>\n",
       "      <td>합계출산율</td>\n",
       "      <td>합계출산율</td>\n",
       "      <td>합계출산율</td>\n",
       "      <td>합계출산율</td>\n",
       "    </tr>\n",
       "    <tr>\n",
       "      <th>1</th>\n",
       "      <td>전국</td>\n",
       "      <td>1.244</td>\n",
       "      <td>1.297</td>\n",
       "      <td>1.187</td>\n",
       "      <td>1.205</td>\n",
       "      <td>1.239</td>\n",
       "      <td>1.172</td>\n",
       "      <td>1.052</td>\n",
       "      <td>0.977</td>\n",
       "      <td>0.918</td>\n",
       "      <td>0.837</td>\n",
       "    </tr>\n",
       "  </tbody>\n",
       "</table>\n",
       "</div>"
      ],
      "text/plain": [
       "   시도별   2011   2012   2013   2014   2015   2016   2017   2018   2019   2020\n",
       "0  시도별  합계출산율  합계출산율  합계출산율  합계출산율  합계출산율  합계출산율  합계출산율  합계출산율  합계출산율  합계출산율\n",
       "1   전국  1.244  1.297  1.187  1.205  1.239  1.172  1.052  0.977  0.918  0.837"
      ]
     },
     "execution_count": 28,
     "metadata": {},
     "output_type": "execute_result"
    }
   ],
   "source": [
    "df=pd.read_excel('출산율.xls')\n",
    "df.head()"
   ]
  },
  {
   "cell_type": "code",
   "execution_count": 29,
   "id": "24767728",
   "metadata": {},
   "outputs": [
    {
     "data": {
      "text/plain": [
       "[2011, 2012, 2013, 2014, 2015, 2016, 2017, 2018, 2019, 2020]"
      ]
     },
     "execution_count": 29,
     "metadata": {},
     "output_type": "execute_result"
    }
   ],
   "source": [
    "year=[]\n",
    "for i in range(len(df.columns)-1):\n",
    "    year.append(int(df.columns[i+1]))\n",
    "year"
   ]
  },
  {
   "cell_type": "code",
   "execution_count": 30,
   "id": "2894ac2b",
   "metadata": {},
   "outputs": [
    {
     "data": {
      "text/plain": [
       "[1.244, 1.297, 1.187, 1.205, 1.239, 1.172, 1.052, 0.977, 0.918, 0.837]"
      ]
     },
     "execution_count": 30,
     "metadata": {},
     "output_type": "execute_result"
    }
   ],
   "source": [
    "fertility_rate=[]\n",
    "for i in range(len(df.columns)-1):\n",
    "    fertility_rate.append((df.loc[1][i+1]))\n",
    "fertility_rate"
   ]
  },
  {
   "cell_type": "code",
   "execution_count": 31,
   "id": "0fc4c938",
   "metadata": {},
   "outputs": [
    {
     "data": {
      "image/png": "[encoded data removed]",
      "text/plain": [
       "<Figure size 432x288 with 1 Axes>"
      ]
     },
     "metadata": {
      "needs_background": "light"
     },
     "output_type": "display_data"
    }
   ],
   "source": [
    "plt.xlabel('연도')\n",
    "plt.ylabel('출산율',color='deeppink')\n",
    "plt.plot(year, fertility_rate, color='deeppink')\n",
    "plt.tick_params(axis='y', labelcolor='deeppink')\n",
    "plt.show()"
   ]
  },
  {
   "cell_type": "markdown",
   "id": "eeebdbc8",
   "metadata": {},
   "source": [
    "-------------------------------------------------------------------------------------------------"
   ]
  },
  {
   "cell_type": "code",
   "execution_count": 32,
   "id": "6975cd00",
   "metadata": {},
   "outputs": [
    {
     "name": "stderr",
     "output_type": "stream",
     "text": [
      "C:\\Users\\dostj\\anaconda3\\lib\\site-packages\\openpyxl\\styles\\stylesheet.py:221: UserWarning: Workbook contains no default style, apply openpyxl's default\n",
      "  warn(\"Workbook contains no default style, apply openpyxl's default\")\n"
     ]
    },
    {
     "data": {
      "text/html": [
       "<div>\n",
       "<style scoped>\n",
       "    .dataframe tbody tr th:only-of-type {\n",
       "        vertical-align: middle;\n",
       "    }\n",
       "\n",
       "    .dataframe tbody tr th {\n",
       "        vertical-align: top;\n",
       "    }\n",
       "\n",
       "    .dataframe thead th {\n",
       "        text-align: right;\n",
       "    }\n",
       "</style>\n",
       "<table border=\"1\" class=\"dataframe\">\n",
       "  <thead>\n",
       "    <tr style=\"text-align: right;\">\n",
       "      <th></th>\n",
       "      <th>행정구역별</th>\n",
       "      <th>연령·교육정도별</th>\n",
       "      <th>2011</th>\n",
       "      <th>2011.1</th>\n",
       "      <th>2011.2</th>\n",
       "      <th>2011.3</th>\n",
       "      <th>2011.4</th>\n",
       "      <th>2011.5</th>\n",
       "      <th>2011.6</th>\n",
       "      <th>2012</th>\n",
       "      <th>...</th>\n",
       "      <th>2019.4</th>\n",
       "      <th>2019.5</th>\n",
       "      <th>2019.6</th>\n",
       "      <th>2020</th>\n",
       "      <th>2020.1</th>\n",
       "      <th>2020.2</th>\n",
       "      <th>2020.3</th>\n",
       "      <th>2020.4</th>\n",
       "      <th>2020.5</th>\n",
       "      <th>2020.6</th>\n",
       "    </tr>\n",
       "  </thead>\n",
       "  <tbody>\n",
       "    <tr>\n",
       "      <th>0</th>\n",
       "      <td>행정구역별</td>\n",
       "      <td>연령·교육정도별</td>\n",
       "      <td>15-54세 기혼 여성 (명)</td>\n",
       "      <td>비취업자(실업자+비경활) (명)</td>\n",
       "      <td>경력단절여성 (명)</td>\n",
       "      <td>경제활동참가율 (%)</td>\n",
       "      <td>실업률 (%)</td>\n",
       "      <td>경력단절여성 비율 1 (%)</td>\n",
       "      <td>경력단절여성 비율 2 (%)</td>\n",
       "      <td>15-54세 기혼 여성 (명)</td>\n",
       "      <td>...</td>\n",
       "      <td>실업률 (%)</td>\n",
       "      <td>경력단절여성 비율 1 (%)</td>\n",
       "      <td>경력단절여성 비율 2 (%)</td>\n",
       "      <td>15-54세 기혼 여성 (명)</td>\n",
       "      <td>비취업자(실업자+비경활) (명)</td>\n",
       "      <td>경력단절여성 (명)</td>\n",
       "      <td>경제활동참가율 (%)</td>\n",
       "      <td>실업률 (%)</td>\n",
       "      <td>경력단절여성 비율 1 (%)</td>\n",
       "      <td>경력단절여성 비율 2 (%)</td>\n",
       "    </tr>\n",
       "    <tr>\n",
       "      <th>1</th>\n",
       "      <td>전국</td>\n",
       "      <td>전체</td>\n",
       "      <td>10033253</td>\n",
       "      <td>4145254</td>\n",
       "      <td>1925578</td>\n",
       "      <td>60</td>\n",
       "      <td>2.2</td>\n",
       "      <td>19.2</td>\n",
       "      <td>46.5</td>\n",
       "      <td>9939747</td>\n",
       "      <td>...</td>\n",
       "      <td>2.6</td>\n",
       "      <td>19.2</td>\n",
       "      <td>50.5</td>\n",
       "      <td>8577826</td>\n",
       "      <td>3420253</td>\n",
       "      <td>1505540</td>\n",
       "      <td>61.9</td>\n",
       "      <td>2.9</td>\n",
       "      <td>17.6</td>\n",
       "      <td>44</td>\n",
       "    </tr>\n",
       "  </tbody>\n",
       "</table>\n",
       "<p>2 rows × 72 columns</p>\n",
       "</div>"
      ],
      "text/plain": [
       "   행정구역별  연령·교육정도별              2011             2011.1      2011.2  \\\n",
       "0  행정구역별  연령·교육정도별  15-54세 기혼 여성 (명)  비취업자(실업자+비경활) (명)  경력단절여성 (명)   \n",
       "1     전국        전체          10033253            4145254     1925578   \n",
       "\n",
       "        2011.3   2011.4           2011.5           2011.6              2012  \\\n",
       "0  경제활동참가율 (%)  실업률 (%)  경력단절여성 비율 1 (%)  경력단절여성 비율 2 (%)  15-54세 기혼 여성 (명)   \n",
       "1           60      2.2             19.2             46.5           9939747   \n",
       "\n",
       "   ...   2019.4           2019.5           2019.6              2020  \\\n",
       "0  ...  실업률 (%)  경력단절여성 비율 1 (%)  경력단절여성 비율 2 (%)  15-54세 기혼 여성 (명)   \n",
       "1  ...      2.6             19.2             50.5           8577826   \n",
       "\n",
       "              2020.1      2020.2       2020.3   2020.4           2020.5  \\\n",
       "0  비취업자(실업자+비경활) (명)  경력단절여성 (명)  경제활동참가율 (%)  실업률 (%)  경력단절여성 비율 1 (%)   \n",
       "1            3420253     1505540         61.9      2.9             17.6   \n",
       "\n",
       "            2020.6  \n",
       "0  경력단절여성 비율 2 (%)  \n",
       "1               44  \n",
       "\n",
       "[2 rows x 72 columns]"
      ]
     },
     "execution_count": 32,
     "metadata": {},
     "output_type": "execute_result"
    }
   ],
   "source": [
    "df=pd.read_excel('경력단절.xlsx')\n",
    "df.head()"
   ]
  },
  {
   "cell_type": "code",
   "execution_count": 33,
   "id": "e0d3f5f9",
   "metadata": {},
   "outputs": [
    {
     "data": {
      "text/plain": [
       "[19.2, 20.2, 20.1, 22.2, 21.7, 20.5, 20, 20.5, 19.2, 17.6]"
      ]
     },
     "execution_count": 33,
     "metadata": {},
     "output_type": "execute_result"
    }
   ],
   "source": [
    "career_rate=[]\n",
    "for i in range(len(year)):\n",
    "    career_rate.append(df.loc[1][7*i+7])\n",
    "career_rate"
   ]
  },
  {
   "cell_type": "code",
   "execution_count": 34,
   "id": "b7b48ad4",
   "metadata": {},
   "outputs": [
    {
     "data": {
      "image/png": "[encoded data removed]",
      "text/plain": [
       "<Figure size 432x288 with 1 Axes>"
      ]
     },
     "metadata": {
      "needs_background": "light"
     },
     "output_type": "display_data"
    }
   ],
   "source": [
    "plt.bar(year,career_rate)\n",
    "plt.show()"
   ]
  },
  {
   "cell_type": "markdown",
   "id": "57ae8944",
   "metadata": {},
   "source": [
    "------------------------------------------------------------------------------------------------"
   ]
  },
  {
   "cell_type": "code",
   "execution_count": 49,
   "id": "d14eecf4",
   "metadata": {},
   "outputs": [
    {
     "data": {
      "image/png": "[encoded data removed]",
      "text/plain": [
       "<Figure size 432x288 with 2 Axes>"
      ]
     },
     "metadata": {},
     "output_type": "display_data"
    }
   ],
   "source": [
    "fig, ax1 = plt.subplots()\n",
    "ax1.set_xlabel('연도')\n",
    "ax1.set_ylabel('출산율',color='orange')\n",
    "ax1.plot(year, fertility_rate, color='orange')\n",
    "ax1.tick_params(axis='y', labelcolor='orange')\n",
    "\n",
    "ax2 = ax1.twinx()\n",
    "ax2.set_ylabel('경력단절 비율',color='brown')\n",
    "ax2.plot(year, career_rate, color='brown')\n",
    "ax2.tick_params(axis='y', labelcolor='brown')\n",
    "\n",
    "plt.title('출산율과 경력단절의 관계')\n",
    "plt.show()"
   ]
  },
  {
   "cell_type": "markdown",
   "id": "050e34cd",
   "metadata": {},
   "source": [
    "------------------------------------------------------------------------------"
   ]
  },
  {
   "cell_type": "code",
   "execution_count": 36,
   "id": "4eb8fab4",
   "metadata": {},
   "outputs": [
    {
     "data": {
      "text/html": [
       "<div>\n",
       "<style scoped>\n",
       "    .dataframe tbody tr th:only-of-type {\n",
       "        vertical-align: middle;\n",
       "    }\n",
       "\n",
       "    .dataframe tbody tr th {\n",
       "        vertical-align: top;\n",
       "    }\n",
       "\n",
       "    .dataframe thead th {\n",
       "        text-align: right;\n",
       "    }\n",
       "</style>\n",
       "<table border=\"1\" class=\"dataframe\">\n",
       "  <thead>\n",
       "    <tr style=\"text-align: right;\">\n",
       "      <th></th>\n",
       "      <th>기본항목별</th>\n",
       "      <th>2011</th>\n",
       "      <th>2012</th>\n",
       "      <th>2013</th>\n",
       "      <th>2014</th>\n",
       "      <th>2015</th>\n",
       "      <th>2016</th>\n",
       "      <th>2017</th>\n",
       "      <th>2018</th>\n",
       "      <th>2019</th>\n",
       "      <th>2020</th>\n",
       "    </tr>\n",
       "  </thead>\n",
       "  <tbody>\n",
       "    <tr>\n",
       "      <th>0</th>\n",
       "      <td>혼인건수(건)</td>\n",
       "      <td>329087.0</td>\n",
       "      <td>327073.0</td>\n",
       "      <td>322807.0</td>\n",
       "      <td>305507</td>\n",
       "      <td>302828.0</td>\n",
       "      <td>281635.0</td>\n",
       "      <td>264455.0</td>\n",
       "      <td>257622</td>\n",
       "      <td>239159.0</td>\n",
       "      <td>213502.0</td>\n",
       "    </tr>\n",
       "    <tr>\n",
       "      <th>1</th>\n",
       "      <td>조혼인율(천명당)</td>\n",
       "      <td>6.6</td>\n",
       "      <td>6.5</td>\n",
       "      <td>6.4</td>\n",
       "      <td>6</td>\n",
       "      <td>5.9</td>\n",
       "      <td>5.5</td>\n",
       "      <td>5.2</td>\n",
       "      <td>5</td>\n",
       "      <td>4.7</td>\n",
       "      <td>4.2</td>\n",
       "    </tr>\n",
       "  </tbody>\n",
       "</table>\n",
       "</div>"
      ],
      "text/plain": [
       "       기본항목별      2011      2012      2013    2014      2015      2016  \\\n",
       "0    혼인건수(건)  329087.0  327073.0  322807.0  305507  302828.0  281635.0   \n",
       "1  조혼인율(천명당)       6.6       6.5       6.4       6       5.9       5.5   \n",
       "\n",
       "       2017    2018      2019      2020  \n",
       "0  264455.0  257622  239159.0  213502.0  \n",
       "1       5.2       5       4.7       4.2  "
      ]
     },
     "execution_count": 36,
     "metadata": {},
     "output_type": "execute_result"
    }
   ],
   "source": [
    "df=pd.read_excel('혼인건수.xls')\n",
    "df.head()"
   ]
  },
  {
   "cell_type": "code",
   "execution_count": 37,
   "id": "36000dd5",
   "metadata": {},
   "outputs": [
    {
     "data": {
      "text/plain": [
       "[329087.0,\n",
       " 327073.0,\n",
       " 322807.0,\n",
       " 305507,\n",
       " 302828.0,\n",
       " 281635.0,\n",
       " 264455.0,\n",
       " 257622,\n",
       " 239159.0,\n",
       " 213502.0]"
      ]
     },
     "execution_count": 37,
     "metadata": {},
     "output_type": "execute_result"
    }
   ],
   "source": [
    "marry=[]\n",
    "for i in range(len(year)):\n",
    "    marry.append(df.loc[0][i+1])\n",
    "marry"
   ]
  },
  {
   "cell_type": "code",
   "execution_count": 50,
   "id": "385145ed",
   "metadata": {},
   "outputs": [
    {
     "data": {
      "image/png": "[encoded data removed]",
      "text/plain": [
       "<Figure size 432x288 with 2 Axes>"
      ]
     },
     "metadata": {},
     "output_type": "display_data"
    }
   ],
   "source": [
    "fig, ax1 = plt.subplots()\n",
    "ax1.set_xlabel('연도')\n",
    "ax1.set_ylabel('출산율',color='orange')\n",
    "ax1.plot(year, fertility_rate, color='orange')\n",
    "ax1.tick_params(axis='y', labelcolor='orange')\n",
    "\n",
    "ax2 = ax1.twinx()\n",
    "ax2.set_ylabel('혼인건수',color='skyblue')\n",
    "ax2.plot(year, marry, color='skyblue')\n",
    "ax2.tick_params(axis='y', labelcolor='skyblue')\n",
    "\n",
    "plt.title('출산율과 혼인건수의 관계')\n",
    "plt.show()"
   ]
  },
  {
   "cell_type": "code",
   "execution_count": null,
   "id": "1c14eaae",
   "metadata": {},
   "outputs": [],
   "source": []
  },
  {
   "cell_type": "code",
   "execution_count": null,
   "id": "1251459b",
   "metadata": {},
   "outputs": [],
   "source": []
  }
 ],
 "metadata": {
  "kernelspec": {
   "display_name": "Python 3",
   "language": "python",
   "name": "python3"
  },
  "language_info": {
   "codemirror_mode": {
    "name": "ipython",
    "version": 3
   },
   "file_extension": ".py",
   "mimetype": "text/x-python",
   "name": "python",
   "nbconvert_exporter": "python",
   "pygments_lexer": "ipython3",
   "version": "3.8.8"
  }
 },
 "nbformat": 4,
 "nbformat_minor": 5
}
