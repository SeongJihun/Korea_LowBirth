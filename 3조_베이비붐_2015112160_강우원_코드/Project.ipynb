{
 "cells": [
  {
   "cell_type": "code",
   "execution_count": 1,
   "metadata": {},
   "outputs": [
    {
     "data": {
      "text/html": [
       "<div>\n",
       "<style scoped>\n",
       "    .dataframe tbody tr th:only-of-type {\n",
       "        vertical-align: middle;\n",
       "    }\n",
       "\n",
       "    .dataframe tbody tr th {\n",
       "        vertical-align: top;\n",
       "    }\n",
       "\n",
       "    .dataframe thead th {\n",
       "        text-align: right;\n",
       "    }\n",
       "</style>\n",
       "<table border=\"1\" class=\"dataframe\">\n",
       "  <thead>\n",
       "    <tr style=\"text-align: right;\">\n",
       "      <th></th>\n",
       "      <th>행정구역별</th>\n",
       "      <th>종류별</th>\n",
       "      <th>항목</th>\n",
       "      <th>단위</th>\n",
       "      <th>2009 년</th>\n",
       "      <th>2010 년</th>\n",
       "      <th>2011 년</th>\n",
       "      <th>2012 년</th>\n",
       "      <th>2013 년</th>\n",
       "      <th>2014 년</th>\n",
       "      <th>2015 년</th>\n",
       "      <th>2016 년</th>\n",
       "      <th>2017 년</th>\n",
       "      <th>2018 년</th>\n",
       "      <th>2019 년</th>\n",
       "      <th>2020 년</th>\n",
       "    </tr>\n",
       "  </thead>\n",
       "  <tbody>\n",
       "    <tr>\n",
       "      <th>0</th>\n",
       "      <td>전국</td>\n",
       "      <td>출생아수(명)</td>\n",
       "      <td>출생,사망,혼인,이혼</td>\n",
       "      <td>NaN</td>\n",
       "      <td>444849</td>\n",
       "      <td>470171</td>\n",
       "      <td>471265</td>\n",
       "      <td>484550.0</td>\n",
       "      <td>436455.0</td>\n",
       "      <td>435435.0</td>\n",
       "      <td>438420.0</td>\n",
       "      <td>406243.0</td>\n",
       "      <td>357771.0</td>\n",
       "      <td>326822.0</td>\n",
       "      <td>302676.0</td>\n",
       "      <td>272337.0</td>\n",
       "    </tr>\n",
       "    <tr>\n",
       "      <th>1</th>\n",
       "      <td>전국</td>\n",
       "      <td>조출생률(천명당)</td>\n",
       "      <td>출생,사망,혼인,이혼</td>\n",
       "      <td>NaN</td>\n",
       "      <td>9</td>\n",
       "      <td>9.4</td>\n",
       "      <td>9.4</td>\n",
       "      <td>9.6</td>\n",
       "      <td>8.6</td>\n",
       "      <td>8.6</td>\n",
       "      <td>8.6</td>\n",
       "      <td>7.9</td>\n",
       "      <td>7.0</td>\n",
       "      <td>6.4</td>\n",
       "      <td>5.9</td>\n",
       "      <td>5.3</td>\n",
       "    </tr>\n",
       "    <tr>\n",
       "      <th>2</th>\n",
       "      <td>전국</td>\n",
       "      <td>사망자수(명)</td>\n",
       "      <td>출생,사망,혼인,이혼</td>\n",
       "      <td>NaN</td>\n",
       "      <td>246942</td>\n",
       "      <td>255405</td>\n",
       "      <td>257396</td>\n",
       "      <td>267221.0</td>\n",
       "      <td>266257.0</td>\n",
       "      <td>267692.0</td>\n",
       "      <td>275895.0</td>\n",
       "      <td>280827.0</td>\n",
       "      <td>285534.0</td>\n",
       "      <td>298820.0</td>\n",
       "      <td>295110.0</td>\n",
       "      <td>304948.0</td>\n",
       "    </tr>\n",
       "    <tr>\n",
       "      <th>3</th>\n",
       "      <td>전국</td>\n",
       "      <td>조사망률(천명당)</td>\n",
       "      <td>출생,사망,혼인,이혼</td>\n",
       "      <td>NaN</td>\n",
       "      <td>5</td>\n",
       "      <td>5.1</td>\n",
       "      <td>5.1</td>\n",
       "      <td>5.3</td>\n",
       "      <td>5.3</td>\n",
       "      <td>5.3</td>\n",
       "      <td>5.4</td>\n",
       "      <td>5.5</td>\n",
       "      <td>5.6</td>\n",
       "      <td>5.8</td>\n",
       "      <td>5.7</td>\n",
       "      <td>5.9</td>\n",
       "    </tr>\n",
       "    <tr>\n",
       "      <th>4</th>\n",
       "      <td>전국</td>\n",
       "      <td>자연증가건수(명)</td>\n",
       "      <td>출생,사망,혼인,이혼</td>\n",
       "      <td>NaN</td>\n",
       "      <td>197907</td>\n",
       "      <td>214766</td>\n",
       "      <td>213869</td>\n",
       "      <td>217329.0</td>\n",
       "      <td>170198.0</td>\n",
       "      <td>167743.0</td>\n",
       "      <td>162525.0</td>\n",
       "      <td>125416.0</td>\n",
       "      <td>72237.0</td>\n",
       "      <td>28002.0</td>\n",
       "      <td>7566.0</td>\n",
       "      <td>-32611.0</td>\n",
       "    </tr>\n",
       "  </tbody>\n",
       "</table>\n",
       "</div>"
      ],
      "text/plain": [
       "  행정구역별        종류별           항목  단위  2009 년  2010 년  2011 년    2012 년  \\\n",
       "0    전국    출생아수(명)  출생,사망,혼인,이혼 NaN  444849  470171  471265  484550.0   \n",
       "1    전국  조출생률(천명당)  출생,사망,혼인,이혼 NaN       9     9.4     9.4       9.6   \n",
       "2    전국    사망자수(명)  출생,사망,혼인,이혼 NaN  246942  255405  257396  267221.0   \n",
       "3    전국  조사망률(천명당)  출생,사망,혼인,이혼 NaN       5     5.1     5.1       5.3   \n",
       "4    전국  자연증가건수(명)  출생,사망,혼인,이혼 NaN  197907  214766  213869  217329.0   \n",
       "\n",
       "     2013 년    2014 년    2015 년    2016 년    2017 년    2018 년    2019 년  \\\n",
       "0  436455.0  435435.0  438420.0  406243.0  357771.0  326822.0  302676.0   \n",
       "1       8.6       8.6       8.6       7.9       7.0       6.4       5.9   \n",
       "2  266257.0  267692.0  275895.0  280827.0  285534.0  298820.0  295110.0   \n",
       "3       5.3       5.3       5.4       5.5       5.6       5.8       5.7   \n",
       "4  170198.0  167743.0  162525.0  125416.0   72237.0   28002.0    7566.0   \n",
       "\n",
       "     2020 년  \n",
       "0  272337.0  \n",
       "1       5.3  \n",
       "2  304948.0  \n",
       "3       5.9  \n",
       "4  -32611.0  "
      ]
     },
     "execution_count": 1,
     "metadata": {},
     "output_type": "execute_result"
    }
   ],
   "source": [
    "import matplotlib.pyplot as plt\n",
    "import numpy as np\n",
    "import pandas as pd\n",
    "plt.rc('font', family='Malgun Gothic')\n",
    "df = pd.read_csv(\"C:/Users/user/Desktop/프로젝트/Project/2009~2020.csv\",encoding='cp949')\n",
    "df.head()"
   ]
  },
  {
   "cell_type": "code",
   "execution_count": 2,
   "metadata": {},
   "outputs": [],
   "source": [
    "a = df.iloc[0, 4:16]"
   ]
  },
  {
   "cell_type": "code",
   "execution_count": 3,
   "metadata": {},
   "outputs": [],
   "source": [
    "b = df.iloc[1, 4:16]"
   ]
  },
  {
   "cell_type": "code",
   "execution_count": 4,
   "metadata": {},
   "outputs": [],
   "source": [
    "alist = a.values.tolist()\n",
    "blist = b.values.tolist()"
   ]
  },
  {
   "cell_type": "code",
   "execution_count": 5,
   "metadata": {},
   "outputs": [
    {
     "data": {
      "text/plain": [
       "[444849,\n",
       " 470171,\n",
       " 471265,\n",
       " 484550,\n",
       " 436455,\n",
       " 435435,\n",
       " 438420,\n",
       " 406243,\n",
       " 357771,\n",
       " 326822,\n",
       " 302676,\n",
       " 272337]"
      ]
     },
     "execution_count": 5,
     "metadata": {},
     "output_type": "execute_result"
    }
   ],
   "source": [
    "int_list = list(map(int, alist))\n",
    "int_list"
   ]
  },
  {
   "cell_type": "code",
   "execution_count": 6,
   "metadata": {},
   "outputs": [
    {
     "data": {
      "text/plain": [
       "[9.0, 9.4, 9.4, 9.6, 8.6, 8.6, 8.6, 7.9, 7.0, 6.4, 5.9, 5.3]"
      ]
     },
     "execution_count": 6,
     "metadata": {},
     "output_type": "execute_result"
    }
   ],
   "source": [
    "b_list = list(map(float, blist))\n",
    "b_list"
   ]
  },
  {
   "cell_type": "code",
   "execution_count": 7,
   "metadata": {},
   "outputs": [
    {
     "data": {
      "image/png": "[encoded data removed]",
      "text/plain": [
       "<Figure size 432x288 with 2 Axes>"
      ]
     },
     "metadata": {
      "needs_background": "light"
     },
     "output_type": "display_data"
    }
   ],
   "source": [
    "days_in_year = int_list\n",
    "year = ['2009','2010','2011','2012','2013','2014','2015','2016','2017','2018','2019','2020']\n",
    "\n",
    "fig, ax1 = plt.subplots()\n",
    "plt.bar(year, days_in_year,color='dodgerblue')\n",
    "ax2 = ax1.twinx()\n",
    "ax2.plot(year, b_list,color='#e35f62')\n",
    "ax1.set_ylabel(\"출생아수\",loc='top')\n",
    "ax2.set_ylabel(\"조출생률\",loc='top')\n",
    "plt.show()"
   ]
  },
  {
   "cell_type": "code",
   "execution_count": 8,
   "metadata": {},
   "outputs": [
    {
     "data": {
      "text/html": [
       "<div>\n",
       "<style scoped>\n",
       "    .dataframe tbody tr th:only-of-type {\n",
       "        vertical-align: middle;\n",
       "    }\n",
       "\n",
       "    .dataframe tbody tr th {\n",
       "        vertical-align: top;\n",
       "    }\n",
       "\n",
       "    .dataframe thead th {\n",
       "        text-align: right;\n",
       "    }\n",
       "</style>\n",
       "<table border=\"1\" class=\"dataframe\">\n",
       "  <thead>\n",
       "    <tr style=\"text-align: right;\">\n",
       "      <th></th>\n",
       "      <th>2009</th>\n",
       "      <th>2010</th>\n",
       "      <th>2011</th>\n",
       "      <th>2012</th>\n",
       "      <th>2013</th>\n",
       "      <th>2014</th>\n",
       "      <th>2015</th>\n",
       "      <th>2016</th>\n",
       "      <th>2017</th>\n",
       "      <th>2018</th>\n",
       "      <th>2019</th>\n",
       "      <th>2020</th>\n",
       "    </tr>\n",
       "  </thead>\n",
       "  <tbody>\n",
       "    <tr>\n",
       "      <th>0</th>\n",
       "      <td>21493</td>\n",
       "      <td>25602</td>\n",
       "      <td>35681</td>\n",
       "      <td>43211</td>\n",
       "      <td>55503</td>\n",
       "      <td>69621</td>\n",
       "      <td>75546</td>\n",
       "      <td>136633</td>\n",
       "      <td>199694</td>\n",
       "      <td>201898</td>\n",
       "      <td>291793</td>\n",
       "      <td>357439</td>\n",
       "    </tr>\n",
       "    <tr>\n",
       "      <th>1</th>\n",
       "      <td>3808</td>\n",
       "      <td>3936</td>\n",
       "      <td>4193</td>\n",
       "      <td>6216</td>\n",
       "      <td>6664</td>\n",
       "      <td>8418</td>\n",
       "      <td>8942</td>\n",
       "      <td>8170</td>\n",
       "      <td>12361</td>\n",
       "      <td>14612</td>\n",
       "      <td>17554</td>\n",
       "      <td>19183</td>\n",
       "    </tr>\n",
       "    <tr>\n",
       "      <th>2</th>\n",
       "      <td>815</td>\n",
       "      <td>885</td>\n",
       "      <td>838</td>\n",
       "      <td>882</td>\n",
       "      <td>952</td>\n",
       "      <td>1007</td>\n",
       "      <td>1156</td>\n",
       "      <td>1107</td>\n",
       "      <td>1327</td>\n",
       "      <td>833</td>\n",
       "      <td>1282</td>\n",
       "      <td>1495</td>\n",
       "    </tr>\n",
       "    <tr>\n",
       "      <th>3</th>\n",
       "      <td>14276</td>\n",
       "      <td>18302</td>\n",
       "      <td>25166</td>\n",
       "      <td>30017</td>\n",
       "      <td>40240</td>\n",
       "      <td>46863</td>\n",
       "      <td>44126</td>\n",
       "      <td>45138</td>\n",
       "      <td>88002</td>\n",
       "      <td>95475</td>\n",
       "      <td>108045</td>\n",
       "      <td>112518</td>\n",
       "    </tr>\n",
       "    <tr>\n",
       "      <th>4</th>\n",
       "      <td>2307</td>\n",
       "      <td>2149</td>\n",
       "      <td>5291</td>\n",
       "      <td>5829</td>\n",
       "      <td>7182</td>\n",
       "      <td>8153</td>\n",
       "      <td>9490</td>\n",
       "      <td>6948</td>\n",
       "      <td>8135</td>\n",
       "      <td>9033</td>\n",
       "      <td>9425</td>\n",
       "      <td>9534</td>\n",
       "    </tr>\n",
       "  </tbody>\n",
       "</table>\n",
       "</div>"
      ],
      "text/plain": [
       "    2009   2010   2011   2012   2013   2014   2015    2016    2017    2018  \\\n",
       "0  21493  25602  35681  43211  55503  69621  75546  136633  199694  201898   \n",
       "1   3808   3936   4193   6216   6664   8418   8942    8170   12361   14612   \n",
       "2    815    885    838    882    952   1007   1156    1107    1327     833   \n",
       "3  14276  18302  25166  30017  40240  46863  44126   45138   88002   95475   \n",
       "4   2307   2149   5291   5829   7182   8153   9490    6948    8135    9033   \n",
       "\n",
       "     2019    2020  \n",
       "0  291793  357439  \n",
       "1   17554   19183  \n",
       "2    1282    1495  \n",
       "3  108045  112518  \n",
       "4    9425    9534  "
      ]
     },
     "execution_count": 8,
     "metadata": {},
     "output_type": "execute_result"
    }
   ],
   "source": [
    "df2 = pd.read_csv(\"C:/Users/user/Desktop/프로젝트/Project/저출산예산.csv\",encoding='cp949')\n",
    "df2.head()"
   ]
  },
  {
   "cell_type": "code",
   "execution_count": 9,
   "metadata": {},
   "outputs": [
    {
     "data": {
      "text/plain": [
       "[21493,\n",
       " 25602,\n",
       " 35681,\n",
       " 43211,\n",
       " 55503,\n",
       " 69621,\n",
       " 75546,\n",
       " 136633,\n",
       " 199694,\n",
       " 201898,\n",
       " 291793,\n",
       " 357439]"
      ]
     },
     "execution_count": 9,
     "metadata": {},
     "output_type": "execute_result"
    }
   ],
   "source": [
    "a = df2.loc[0]\n",
    "alist = a.values.tolist()\n",
    "alist"
   ]
  },
  {
   "cell_type": "code",
   "execution_count": 10,
   "metadata": {},
   "outputs": [
    {
     "data": {
      "image/png": "[encoded data removed]",
      "text/plain": [
       "<Figure size 432x288 with 2 Axes>"
      ]
     },
     "metadata": {
      "needs_background": "light"
     },
     "output_type": "display_data"
    }
   ],
   "source": [
    "x = alist\n",
    "year = ['2009','2010','2011','2012','2013','2014','2015','2016','2017','2018','2019','2020']\n",
    "\n",
    "fig, ax1 = plt.subplots()\n",
    "plt.bar(year, x,color='dodgerblue')\n",
    "ax1.set_ylabel(\"예산(단위 : 억원)\",loc='top')\n",
    "ax2 = ax1.twinx()\n",
    "ax2.plot(year, b_list,color='#e35f62')\n",
    "ax2.set_ylabel(\"조출생률\",loc='top')\n",
    "plt.show()"
   ]
  },
  {
   "cell_type": "code",
   "execution_count": 11,
   "metadata": {},
   "outputs": [
    {
     "data": {
      "image/png": "[encoded data removed]",
      "text/plain": [
       "<Figure size 720x288 with 1 Axes>"
      ]
     },
     "metadata": {
      "needs_background": "light"
     },
     "output_type": "display_data"
    }
   ],
   "source": [
    "a1 = df2.loc[1]\n",
    "a1_list = a1.values.tolist()\n",
    "a2 = df2.loc[2]\n",
    "a2_list = a2.values.tolist()\n",
    "a3 = df2.loc[3]\n",
    "a3_list = a3.values.tolist()\n",
    "a4 = df2.loc[4]\n",
    "a4_list = a4.values.tolist()\n",
    "a5 = df2.loc[5]\n",
    "a5_list = a5.values.tolist()\n",
    "a6 = df2.loc[6]\n",
    "a6_list = a6.values.tolist()\n",
    "a7 = df2.loc[7]\n",
    "a7_list = a7.values.tolist()\n",
    "a8 = df2.loc[8]\n",
    "a8_list = a8.values.tolist()\n",
    "a9 = df2.loc[9]\n",
    "a9_list = a9.values.tolist()\n",
    "\n",
    "df2 = pd.read_csv(\"C:/Users/user/Desktop/프로젝트/Project/저출산예산.csv\",encoding='cp949')\n",
    "fig = plt.figure(figsize=(10, 4))\n",
    "ax = fig.add_subplot(111)\n",
    "\n",
    "ax.plot(year,a1_list)\n",
    "ax.plot(year,a2_list)\n",
    "ax.plot(year,a3_list)\n",
    "ax.plot(year,a4_list)\n",
    "ax.plot(year,a5_list)\n",
    "ax.plot(year,a6_list)\n",
    "ax.plot(year,a7_list)\n",
    "ax.plot(year,a8_list)\n",
    "ax.plot(year,a9_list)\n",
    "\n",
    "ax.set_title(\"저출산 예산\")\n",
    "ax.set_ylabel(\"예산(단위 : 억원)\",loc='top')\n",
    "plt.legend(['아동양육가구','산모·신생아','영유아','아동·청소년','신혼부부','여성','직장','사회','기타'])\n",
    "plt.show()"
   ]
  },
  {
   "cell_type": "code",
   "execution_count": 12,
   "metadata": {},
   "outputs": [
    {
     "data": {
      "image/png": "[encoded data removed]",
      "text/plain": [
       "<Figure size 720x288 with 1 Axes>"
      ]
     },
     "metadata": {
      "needs_background": "light"
     },
     "output_type": "display_data"
    }
   ],
   "source": [
    "p_list = []\n",
    "n_list = []\n",
    "\n",
    "df3 = pd.read_csv(\"C:/Users/user/Desktop/프로젝트/Project/국민건강보험공단 임신출산 진료비 지원 현황_20201231.csv\",encoding='cp949')\n",
    "\n",
    "p_list=df3['직장가입자(천원)']\n",
    "n_list=df3['지역가입자(천원)']\n",
    "\n",
    "year = ['2009','2010','2011','2012','2013','2014','2015','2016','2017','2018','2019','2020']\n",
    "\n",
    "fig2 = plt.figure(figsize=(10, 4))\n",
    "ax3 = fig2.add_subplot(111)\n",
    "ax3.barh(year,p_list)\n",
    "ax3.barh(year,n_list)\n",
    "\n",
    "ax3.set_title(\"임신출산 진료비 지원금 현황\")\n",
    "ax3.set_xlabel(\"금액(단위 : 천원)\",loc='center')\n",
    "plt.legend(['직장가입자','지역가입자'])\n",
    "plt.show()"
   ]
  },
  {
   "cell_type": "code",
   "execution_count": 41,
   "metadata": {},
   "outputs": [
    {
     "data": {
      "image/png": "[encoded data removed]",
      "text/plain": [
       "<Figure size 432x288 with 2 Axes>"
      ]
     },
     "metadata": {
      "needs_background": "light"
     },
     "output_type": "display_data"
    }
   ],
   "source": [
    "result_list=df3['합계']\n",
    "\n",
    "x = result_list\n",
    "year = ['2009','2010','2011','2012','2013','2014','2015','2016','2017','2018','2019','2020']\n",
    "\n",
    "fig, ax1 = plt.subplots()\n",
    "plt.plot(year, x,color='dodgerblue',label='임신출산 지원금')\n",
    "ax1.set_ylabel(\"예산(단위 : 천원)\",loc='top')\n",
    "ax2 = ax1.twinx()\n",
    "ax2.plot(year, b_list,color='#e35f62',label='조출생률')\n",
    "ax2.set_ylabel(\"조출생률\",loc='top')\n",
    "ax1.legend(loc='upper right',bbox_to_anchor=(1,0.9))\n",
    "plt.legend()\n",
    "plt.show()"
   ]
  },
  {
   "cell_type": "code",
   "execution_count": null,
   "metadata": {},
   "outputs": [],
   "source": []
  }
 ],
 "metadata": {
  "kernelspec": {
   "display_name": "Python 3",
   "language": "python",
   "name": "python3"
  },
  "language_info": {
   "codemirror_mode": {
    "name": "ipython",
    "version": 3
   },
   "file_extension": ".py",
   "mimetype": "text/x-python",
   "name": "python",
   "nbconvert_exporter": "python",
   "pygments_lexer": "ipython3",
   "version": "3.8.5"
  }
 },
 "nbformat": 4,
 "nbformat_minor": 4
}
